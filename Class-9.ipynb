{
  "nbformat": 4,
  "nbformat_minor": 0,
  "metadata": {
    "colab": {
      "provenance": [],
      "authorship_tag": "ABX9TyOhSwdCNQ9wDLeLRjU0s6EE",
      "include_colab_link": true
    },
    "kernelspec": {
      "name": "python3",
      "display_name": "Python 3"
    },
    "language_info": {
      "name": "python"
    }
  },
  "cells": [
    {
      "cell_type": "markdown",
      "metadata": {
        "id": "view-in-github",
        "colab_type": "text"
      },
      "source": [
        "<a href=\"https://colab.research.google.com/github/MuhammadZaeem500/Python-Course/blob/main/Class-9.ipynb\" target=\"_parent\"><img src=\"https://colab.research.google.com/assets/colab-badge.svg\" alt=\"Open In Colab\"/></a>"
      ]
    },
    {
      "cell_type": "code",
      "execution_count": 2,
      "metadata": {
        "id": "TjIaucLjgTP_",
        "colab": {
          "base_uri": "https://localhost:8080/"
        },
        "outputId": "7d984a64-6ee2-4b8c-c5eb-bec0260f63df"
      },
      "outputs": [
        {
          "output_type": "stream",
          "name": "stdout",
          "text": [
            "25\n",
            "100\n"
          ]
        }
      ],
      "source": [
        "square = lambda x: x * x\n",
        "\n",
        "print(square(5))\n",
        "print(square(10))\n"
      ]
    },
    {
      "cell_type": "code",
      "source": [
        "check_even_odd = lambda num: \"Even\" if num % 2 == 0 else \"Odd\"\n",
        "\n",
        "print(check_even_odd(10))\n",
        "print(check_even_odd(7))\n"
      ],
      "metadata": {
        "colab": {
          "base_uri": "https://localhost:8080/"
        },
        "id": "DLcuZwwvogVB",
        "outputId": "a63e26ef-558c-40f3-f9b3-4e41c49dd2c5"
      },
      "execution_count": 3,
      "outputs": [
        {
          "output_type": "stream",
          "name": "stdout",
          "text": [
            "Even\n",
            "Odd\n"
          ]
        }
      ]
    },
    {
      "cell_type": "code",
      "source": [
        "def square(x):\n",
        "    return x * x\n",
        "\n",
        "square_lambda = lambda x: x * x\n",
        "\n",
        "print(square(5))\n",
        "print(square_lambda(5))"
      ],
      "metadata": {
        "colab": {
          "base_uri": "https://localhost:8080/"
        },
        "id": "S-6UXM0urV-U",
        "outputId": "26082883-b968-4bc0-ac8d-af8d86feca44"
      },
      "execution_count": 4,
      "outputs": [
        {
          "output_type": "stream",
          "name": "stdout",
          "text": [
            "25\n",
            "25\n"
          ]
        }
      ]
    }
  ]
}