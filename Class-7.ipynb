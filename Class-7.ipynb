{
  "nbformat": 4,
  "nbformat_minor": 0,
  "metadata": {
    "colab": {
      "provenance": [],
      "authorship_tag": "ABX9TyMxw8ommD8TT8KeSvFU/mfL",
      "include_colab_link": true
    },
    "kernelspec": {
      "name": "python3",
      "display_name": "Python 3"
    },
    "language_info": {
      "name": "python"
    }
  },
  "cells": [
    {
      "cell_type": "markdown",
      "metadata": {
        "id": "view-in-github",
        "colab_type": "text"
      },
      "source": [
        "<a href=\"https://colab.research.google.com/github/MuhammadZaeem500/Python-Course/blob/main/Class-7.ipynb\" target=\"_parent\"><img src=\"https://colab.research.google.com/assets/colab-badge.svg\" alt=\"Open In Colab\"/></a>"
      ]
    },
    {
      "cell_type": "code",
      "execution_count": 6,
      "metadata": {
        "colab": {
          "base_uri": "https://localhost:8080/"
        },
        "id": "5C8cD5yqgJYe",
        "outputId": "097cb8e6-846a-4d94-a2de-1092a839f5c4"
      },
      "outputs": [
        {
          "output_type": "stream",
          "name": "stdout",
          "text": [
            "Enter a Number: 11\n",
            "The number is greater than 10\n"
          ]
        }
      ],
      "source": [
        "num = int (input(\"Enter a Number: \"))\n",
        "if  num > 10 :\n",
        "   print(\"The number is greater than 10\")\n",
        "elif num == 10:\n",
        "     print(\"The number is equal to 10\")\n",
        "else:\n",
        "  print(\"The number is not greater than 10\")\n"
      ]
    },
    {
      "cell_type": "code",
      "source": [
        "num = int(input(\"Enter a Number: \"))\n",
        "if num % 2 == 0:\n",
        "    print(\"The number is even\")\n",
        "else:\n",
        "    print(\"The number is odd\")"
      ],
      "metadata": {
        "colab": {
          "base_uri": "https://localhost:8080/"
        },
        "id": "fPuNuDRnmHHD",
        "outputId": "6608734c-5671-4080-c708-cbf8784aa943"
      },
      "execution_count": 7,
      "outputs": [
        {
          "output_type": "stream",
          "name": "stdout",
          "text": [
            "Enter a Number: 10\n",
            "The number is even\n"
          ]
        }
      ]
    },
    {
      "cell_type": "code",
      "source": [
        "age = int(input(\"Enter your age: \"))\n",
        "if age >= 0 and age <=2:\n",
        "  print(\"Infant\")\n",
        "elif age >3 and age <= 12:\n",
        "    print(\"Child\")\n",
        "elif age >= 13 and age <= 19:\n",
        "    print(\"Teenager\")\n",
        "elif age >= 20 and age <= 64:\n",
        "    print(\"Adult\")\n",
        "elif (age >= 65):\n",
        "    print(\"Senior Citizen\")\n",
        "else:\n",
        "    print(\"Age Invalid\")\n"
      ],
      "metadata": {
        "colab": {
          "base_uri": "https://localhost:8080/"
        },
        "id": "pp894-6Xn1UP",
        "outputId": "af4de76e-c4ae-418a-e8d4-d26201801182"
      },
      "execution_count": 12,
      "outputs": [
        {
          "output_type": "stream",
          "name": "stdout",
          "text": [
            "Enter your age: -6\n",
            "Age Invalid\n"
          ]
        }
      ]
    },
    {
      "cell_type": "code",
      "source": [
        "Temperature = float (input(\"Enter the Temperature: \"))\n",
        "if Temperature < 0:\n",
        "  print(\"Freezing Cold\")\n",
        "elif Temperature >= 0 and Temperature <= 10:\n",
        "  print(\"Cold Weather\")\n",
        "elif Temperature >= 11 and Temperature <= 20:\n",
        "  print(\"Cool Weather\")\n",
        "elif Temperature >= 21 and Temperature <= 30:\n",
        "  print(\"Comfortable Weather\")\n",
        "else:\n",
        "  print(\"Hot Weather\")"
      ],
      "metadata": {
        "colab": {
          "base_uri": "https://localhost:8080/"
        },
        "id": "qUsQsxZip1ta",
        "outputId": "48ddef34-433b-48bc-8494-8b981f0ea6b0"
      },
      "execution_count": 14,
      "outputs": [
        {
          "output_type": "stream",
          "name": "stdout",
          "text": [
            "Enter the Temperature: 100\n",
            "Hot Weather\n"
          ]
        }
      ]
    },
    {
      "cell_type": "code",
      "source": [],
      "metadata": {
        "id": "NMSS--bAomK2"
      },
      "execution_count": null,
      "outputs": []
    }
  ]
}