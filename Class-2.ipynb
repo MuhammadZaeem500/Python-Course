{
  "nbformat": 4,
  "nbformat_minor": 0,
  "metadata": {
    "colab": {
      "provenance": [],
      "authorship_tag": "ABX9TyMxA/TTj2T2nhr7jFvqhFz3",
      "include_colab_link": true
    },
    "kernelspec": {
      "name": "python3",
      "display_name": "Python 3"
    },
    "language_info": {
      "name": "python"
    }
  },
  "cells": [
    {
      "cell_type": "markdown",
      "metadata": {
        "id": "view-in-github",
        "colab_type": "text"
      },
      "source": [
        "<a href=\"https://colab.research.google.com/github/MuhammadZaeem500/Python-Course/blob/main/Class-2.ipynb\" target=\"_parent\"><img src=\"https://colab.research.google.com/assets/colab-badge.svg\" alt=\"Open In Colab\"/></a>"
      ]
    },
    {
      "cell_type": "code",
      "execution_count": 9,
      "metadata": {
        "colab": {
          "base_uri": "https://localhost:8080/"
        },
        "id": "_yGUF8EVbR1G",
        "outputId": "6ba95c25-9214-467c-b461-17f2ffc32185"
      },
      "outputs": [
        {
          "output_type": "stream",
          "name": "stdout",
          "text": [
            "Hello, Python\n"
          ]
        }
      ],
      "source": [
        "print(\"Hello, Python\")"
      ]
    },
    {
      "cell_type": "code",
      "source": [
        "name = (input(\"Enter Your Name : \"))\n",
        "print(\"Hello , \", name,\"!\")"
      ],
      "metadata": {
        "id": "EfxixImzfeIA"
      },
      "execution_count": null,
      "outputs": []
    },
    {
      "cell_type": "code",
      "source": [
        "num_1 = int (input(\"Enter First Number :\"))\n",
        "num_2 = int(input(\"Enter Second Number :\"))\n",
        "sum = num_1 + num_2\n",
        "print(\"The Sum is : = \", sum )"
      ],
      "metadata": {
        "colab": {
          "base_uri": "https://localhost:8080/"
        },
        "id": "T3h4stQSfdZK",
        "outputId": "c1e06bce-5b69-4e49-a523-8375c80cbd70"
      },
      "execution_count": 8,
      "outputs": [
        {
          "output_type": "stream",
          "name": "stdout",
          "text": [
            "Enter First Number :1\n",
            "Enter Second Number :2\n",
            "The Sum is : =  3\n"
          ]
        }
      ]
    },
    {
      "cell_type": "code",
      "source": [
        "num_1 = int (input(\"Enter First Number :\"))\n",
        "num_2 = int(input(\"Enter Second Number :\"))\n",
        "sub = num_1 - num_2\n",
        "print(\"The difference is : = \", sub )"
      ],
      "metadata": {
        "colab": {
          "base_uri": "https://localhost:8080/"
        },
        "id": "aK97gHa-f6bk",
        "outputId": "1cbfdd96-c01b-43fc-b686-67ace6d63a42"
      },
      "execution_count": 12,
      "outputs": [
        {
          "output_type": "stream",
          "name": "stdout",
          "text": [
            "Enter First Number :3\n",
            "Enter Second Number :-2\n",
            "The difference is : =  5\n"
          ]
        }
      ]
    },
    {
      "cell_type": "code",
      "source": [
        "name = \" Muhammad Zaeem \"\n",
        "print(name)\n",
        "type(name)"
      ],
      "metadata": {
        "colab": {
          "base_uri": "https://localhost:8080/"
        },
        "id": "BFwBdFLDgNTs",
        "outputId": "49396942-ad35-438d-8501-f50730556075"
      },
      "execution_count": 13,
      "outputs": [
        {
          "output_type": "stream",
          "name": "stdout",
          "text": [
            " Muhammad Zaeem \n"
          ]
        },
        {
          "output_type": "execute_result",
          "data": {
            "text/plain": [
              "str"
            ]
          },
          "metadata": {},
          "execution_count": 13
        }
      ]
    },
    {
      "cell_type": "code",
      "source": [
        "num_1 = float (input(\"Enter First Number : \"))\n",
        "num_2 = float (input(\"Enter Second Number : \"))\n",
        "print(\"The difference is : = \", num_1 * num_2  )"
      ],
      "metadata": {
        "colab": {
          "base_uri": "https://localhost:8080/"
        },
        "id": "Zi6iRoVwpQlm",
        "outputId": "ced772b2-9621-4bf4-b804-0a4fd0e75abd"
      },
      "execution_count": 15,
      "outputs": [
        {
          "output_type": "stream",
          "name": "stdout",
          "text": [
            "Enter First Number :9.0\n",
            "Enter Second Number :1.8\n",
            "The difference is : =  16.2\n"
          ]
        }
      ]
    },
    {
      "cell_type": "code",
      "source": [
        "string = \"123\"\n",
        "print(type(string))\n",
        "integer = int(string)\n",
        "type(integer)"
      ],
      "metadata": {
        "colab": {
          "base_uri": "https://localhost:8080/"
        },
        "id": "W-mzyQhTpgz2",
        "outputId": "f91605f6-9191-4da1-a305-a8aa660cf47f"
      },
      "execution_count": 22,
      "outputs": [
        {
          "output_type": "stream",
          "name": "stdout",
          "text": [
            "<class 'str'>\n"
          ]
        },
        {
          "output_type": "execute_result",
          "data": {
            "text/plain": [
              "int"
            ]
          },
          "metadata": {},
          "execution_count": 22
        }
      ]
    },
    {
      "cell_type": "code",
      "source": [
        "integer = int (\"123\")\n",
        "print(type(integer))\n",
        "string = str (integer)\n",
        "type(string)"
      ],
      "metadata": {
        "colab": {
          "base_uri": "https://localhost:8080/"
        },
        "id": "uMIKTnc4q8jR",
        "outputId": "7910530b-6d4d-41ad-ffa1-3c08dfc03df0"
      },
      "execution_count": 24,
      "outputs": [
        {
          "output_type": "stream",
          "name": "stdout",
          "text": [
            "<class 'int'>\n"
          ]
        },
        {
          "output_type": "execute_result",
          "data": {
            "text/plain": [
              "str"
            ]
          },
          "metadata": {},
          "execution_count": 24
        }
      ]
    },
    {
      "cell_type": "code",
      "source": [
        "num_1 = float (input(\"Enter First Number : \"))\n",
        "num_2 = float (input(\"Enter Second Number : \"))\n",
        "print(\"The divison is : = \", num_1 / num_2  )"
      ],
      "metadata": {
        "colab": {
          "base_uri": "https://localhost:8080/"
        },
        "id": "lMst-SuErTAi",
        "outputId": "e9ac0fc1-5b2f-42ff-a340-b9c8e2c3f2eb"
      },
      "execution_count": 25,
      "outputs": [
        {
          "output_type": "stream",
          "name": "stdout",
          "text": [
            "Enter First Number : 10\n",
            "Enter Second Number : 5.2\n",
            "The divison is : =  1.923076923076923\n"
          ]
        }
      ]
    },
    {
      "cell_type": "code",
      "source": [],
      "metadata": {
        "id": "PwZPranHqnZi"
      },
      "execution_count": null,
      "outputs": []
    },
    {
      "cell_type": "code",
      "metadata": {
        "colab": {
          "base_uri": "https://localhost:8080/"
        },
        "id": "894f8c4a",
        "outputId": "83202823-be0d-4f49-9514-89d8d540d939"
      },
      "source": [
        "a, b, c = 1, 2, 3\n",
        "print(a)\n",
        "print(b)\n",
        "print(c)"
      ],
      "execution_count": 26,
      "outputs": [
        {
          "output_type": "stream",
          "name": "stdout",
          "text": [
            "1\n",
            "2\n",
            "3\n"
          ]
        }
      ]
    }
  ]
}