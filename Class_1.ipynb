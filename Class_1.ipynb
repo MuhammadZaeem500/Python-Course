{
  "nbformat": 4,
  "nbformat_minor": 0,
  "metadata": {
    "colab": {
      "provenance": [],
      "authorship_tag": "ABX9TyMLWsmf0xwMnYOs9Rq7DBGZ",
      "include_colab_link": true
    },
    "kernelspec": {
      "name": "python3",
      "display_name": "Python 3"
    },
    "language_info": {
      "name": "python"
    }
  },
  "cells": [
    {
      "cell_type": "markdown",
      "metadata": {
        "id": "view-in-github",
        "colab_type": "text"
      },
      "source": [
        "<a href=\"https://colab.research.google.com/github/MuhammadZaeem500/Python-Course/blob/main/Class_1.ipynb\" target=\"_parent\"><img src=\"https://colab.research.google.com/assets/colab-badge.svg\" alt=\"Open In Colab\"/></a>"
      ]
    },
    {
      "cell_type": "code",
      "execution_count": 6,
      "metadata": {
        "colab": {
          "base_uri": "https://localhost:8080/"
        },
        "id": "bDiYCaJDV5Zh",
        "outputId": "9abdece6-97e3-4e1c-c04e-9e18269f765c"
      },
      "outputs": [
        {
          "output_type": "stream",
          "name": "stdout",
          "text": [
            "Zaeem Sheikh S/O Muhmmad Asif and Ayesha Asif. My age is 21 years.\n",
            "Age : 73\n"
          ]
        }
      ],
      "source": [
        "print (\"Zaeem Sheikh S/O Muhmmad Asif and Ayesha Asif. My age is 21 years.\")\n",
        "Age = 73\n",
        "print (\"Age :\" , Age)"
      ]
    }
  ]
}