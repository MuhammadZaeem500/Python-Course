{
  "nbformat": 4,
  "nbformat_minor": 0,
  "metadata": {
    "colab": {
      "provenance": [],
      "authorship_tag": "ABX9TyNNEmxS9GTfDteXh7ZEsDdy",
      "include_colab_link": true
    },
    "kernelspec": {
      "name": "python3",
      "display_name": "Python 3"
    },
    "language_info": {
      "name": "python"
    }
  },
  "cells": [
    {
      "cell_type": "markdown",
      "metadata": {
        "id": "view-in-github",
        "colab_type": "text"
      },
      "source": [
        "<a href=\"https://colab.research.google.com/github/MuhammadZaeem500/Python-Course/blob/main/Class-8.ipynb\" target=\"_parent\"><img src=\"https://colab.research.google.com/assets/colab-badge.svg\" alt=\"Open In Colab\"/></a>"
      ]
    },
    {
      "cell_type": "code",
      "execution_count": 4,
      "metadata": {
        "id": "BeNDcMagnUgw",
        "colab": {
          "base_uri": "https://localhost:8080/"
        },
        "outputId": "b73362f0-97d3-453c-ebde-b5c7dd34b27c"
      },
      "outputs": [
        {
          "output_type": "stream",
          "name": "stdout",
          "text": [
            "Enter your age: -5\n",
            "Invalid age\n"
          ]
        }
      ],
      "source": [
        "age = int(input(\"Enter your age: \"))\n",
        "match age:\n",
        "    case age if 0 <= age <=2:\n",
        "      print(\"infant\")\n",
        "    case age if 3 <= age <=12:\n",
        "     print(\"Child\")\n",
        "    case age if 0 <= age <=19:\n",
        "         print(\"Teenager\")\n",
        "    case age if 0 <= age <=64:\n",
        "      print(\"Adult\")\n",
        "    case age if 65 <= age <=1000:\n",
        "      print(\"Senior citizen\")\n",
        "    case _:\n",
        "        print(\"Invalid age\")\n"
      ]
    },
    {
      "cell_type": "code",
      "source": [
        "temperature = float(input(\"Enter the temperature:\"))\n",
        "match temperature:\n",
        "    case temperature if temperature < 0:\n",
        "        print(\"Freezing Cold\")\n",
        "    case temperature if 0 <= temperature <= 10:\n",
        "        print(\"Cold\")\n",
        "    case temperature if 11 <= temperature <= 20:\n",
        "        print(\"Cool\")\n",
        "    case temperature if 21 <= temperature <= 30:\n",
        "        print(\"Comfortable\")\n",
        "    case temperature if temperature >= 30:\n",
        "        print(\"Hot\")"
      ],
      "metadata": {
        "id": "tiCqn2WHvg3C"
      },
      "execution_count": null,
      "outputs": []
    },
    {
      "cell_type": "code",
      "source": [
        "Number = int(input(\"Enter a Number: \"))\n",
        "result = \"Even\" if Age % 2 == 0 else \"Odd\"\n",
        "print(f\"{result} number\")"
      ],
      "metadata": {
        "colab": {
          "base_uri": "https://localhost:8080/"
        },
        "id": "Tqp5cBuVrDd-",
        "outputId": "da227349-136e-4c97-cb95-3be0902a63b0"
      },
      "execution_count": 14,
      "outputs": [
        {
          "output_type": "stream",
          "name": "stdout",
          "text": [
            "Enter a Number: 10\n",
            "Even number\n"
          ]
        }
      ]
    },
    {
      "cell_type": "code",
      "source": [
        "Age = int(input(\"Enter your age: \"))\n",
        "\n",
        "result = \"Senior disccount\" if Age >= 60 else \"No discount\"\n",
        "print(f\"{result} is available\")"
      ],
      "metadata": {
        "id": "zgDEDyHPvli-"
      },
      "execution_count": null,
      "outputs": []
    }
  ]
}