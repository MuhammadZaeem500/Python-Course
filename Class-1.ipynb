{
  "nbformat": 4,
  "nbformat_minor": 0,
  "metadata": {
    "colab": {
      "provenance": [],
      "authorship_tag": "ABX9TyO8cLIhyZTcm47lmo8Y1Kgh",
      "include_colab_link": true
    },
    "kernelspec": {
      "name": "python3",
      "display_name": "Python 3"
    },
    "language_info": {
      "name": "python"
    }
  },
  "cells": [
    {
      "cell_type": "markdown",
      "metadata": {
        "id": "view-in-github",
        "colab_type": "text"
      },
      "source": [
        "<a href=\"https://colab.research.google.com/github/MuhammadZaeem500/Python-Course/blob/main/Class-1.ipynb\" target=\"_parent\"><img src=\"https://colab.research.google.com/assets/colab-badge.svg\" alt=\"Open In Colab\"/></a>"
      ]
    },
    {
      "cell_type": "code",
      "execution_count": null,
      "metadata": {
        "colab": {
          "base_uri": "https://localhost:8080/"
        },
        "id": "bDiYCaJDV5Zh",
        "outputId": "b41c0d02-bb40-425e-de19-7a98914cca85"
      },
      "outputs": [
        {
          "output_type": "stream",
          "name": "stdout",
          "text": [
            "My name is Zaeem Sheikh S/O Muhmmad Asif and Ayesha Asif.\n",
            "My age is 21 years.\n",
            "Father's Age : 73\n",
            "University : University of Management and Technology\n"
          ]
        },
        {
          "output_type": "execute_result",
          "data": {
            "text/plain": [
              "str"
            ]
          },
          "metadata": {},
          "execution_count": 12
        }
      ],
      "source": [
        "print (\"My name is Zaeem Sheikh S/O Muhmmad Asif and Ayesha Asif.\")\n",
        "print (\"My age is 21 years.\")\n",
        "Age = 73\n",
        "print (\"Father's Age :\" , Age)\n",
        "University = \"University of Management and Technology\"\n",
        "print ( \"University :\", University)\n",
        "type(University)"
      ]
    },
    {
      "cell_type": "code",
      "source": [
        "FatherName = \"Muhammad Asif\"\n",
        "print (\"Father's Name\" , FatherName)\n",
        "FatherName = input()\n",
        "print (\"Father's Name\" , FatherName)\n",
        "MotherName = input()\n",
        "print (\"Mother's Name\" , MotherName)"
      ],
      "metadata": {
        "colab": {
          "base_uri": "https://localhost:8080/"
        },
        "id": "UGOz8kJfdwtF",
        "outputId": "11b32620-a766-47a3-952f-f240026e75f3"
      },
      "execution_count": null,
      "outputs": [
        {
          "output_type": "stream",
          "name": "stdout",
          "text": [
            "Father's Name Muhammad Asif\n",
            "Muhammad Asif\n",
            "Father's Name Muhammad Asif\n",
            "Ayesha Asif\n",
            "Mother's Name Ayesha Asif\n",
            "61\n",
            "Age :  61\n"
          ]
        },
        {
          "output_type": "execute_result",
          "data": {
            "text/plain": [
              "str"
            ]
          },
          "metadata": {},
          "execution_count": 17
        }
      ]
    },
    {
      "cell_type": "code",
      "source": [
        "Age = int( input(\"Enter Age : \"))\n",
        "print( \"Age : \", Age)\n",
        "type(Age)"
      ],
      "metadata": {
        "colab": {
          "base_uri": "https://localhost:8080/"
        },
        "id": "D8pdGfrZgixC",
        "outputId": "a8cfdeee-bc0c-4909-a72f-bc21b32d523b"
      },
      "execution_count": null,
      "outputs": [
        {
          "output_type": "stream",
          "name": "stdout",
          "text": [
            "Enter Age : 61\n",
            "Age :  61\n"
          ]
        },
        {
          "output_type": "execute_result",
          "data": {
            "text/plain": [
              "int"
            ]
          },
          "metadata": {},
          "execution_count": 21
        }
      ]
    },
    {
      "cell_type": "code",
      "source": [
        "Price = float(input (\"Enter Price Value : \"))\n",
        "print(Price)\n",
        "type(Price)"
      ],
      "metadata": {
        "colab": {
          "base_uri": "https://localhost:8080/"
        },
        "id": "aP-pErnvhvlW",
        "outputId": "6f9cd30e-1e5a-4035-88fc-abf408cb9caa"
      },
      "execution_count": null,
      "outputs": [
        {
          "output_type": "stream",
          "name": "stdout",
          "text": [
            "Enter Price Value : 90\n",
            "90.0\n"
          ]
        },
        {
          "output_type": "execute_result",
          "data": {
            "text/plain": [
              "float"
            ]
          },
          "metadata": {},
          "execution_count": 30
        }
      ]
    }
  ]
}