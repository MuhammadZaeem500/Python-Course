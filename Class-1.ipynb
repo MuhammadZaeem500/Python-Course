{
  "nbformat": 4,
  "nbformat_minor": 0,
  "metadata": {
    "colab": {
      "provenance": [],
      "authorship_tag": "ABX9TyNXlK9my8fOjuFsZpSBQSw7",
      "include_colab_link": true
    },
    "kernelspec": {
      "name": "python3",
      "display_name": "Python 3"
    },
    "language_info": {
      "name": "python"
    }
  },
  "cells": [
    {
      "cell_type": "markdown",
      "metadata": {
        "id": "view-in-github",
        "colab_type": "text"
      },
      "source": [
        "<a href=\"https://colab.research.google.com/github/MuhammadZaeem500/Python-Course/blob/main/Class-1.ipynb\" target=\"_parent\"><img src=\"https://colab.research.google.com/assets/colab-badge.svg\" alt=\"Open In Colab\"/></a>"
      ]
    },
    {
      "cell_type": "code",
      "execution_count": 12,
      "metadata": {
        "colab": {
          "base_uri": "https://localhost:8080/"
        },
        "id": "bDiYCaJDV5Zh",
        "outputId": "b41c0d02-bb40-425e-de19-7a98914cca85"
      },
      "outputs": [
        {
          "output_type": "stream",
          "name": "stdout",
          "text": [
            "My name is Zaeem Sheikh S/O Muhmmad Asif and Ayesha Asif.\n",
            "My age is 21 years.\n",
            "Father's Age : 73\n",
            "University : University of Management and Technology\n"
          ]
        },
        {
          "output_type": "execute_result",
          "data": {
            "text/plain": [
              "str"
            ]
          },
          "metadata": {},
          "execution_count": 12
        }
      ],
      "source": [
        "print (\"My name is Zaeem Sheikh S/O Muhmmad Asif and Ayesha Asif.\")\n",
        "print (\"My age is 21 years.\")\n",
        "Age = 73\n",
        "print (\"Father's Age :\" , Age)\n",
        "University = \"University of Management and Technology\"\n",
        "print ( \"University :\", University)\n",
        "type(University)"
      ]
    },
    {
      "cell_type": "code",
      "source": [
        "FatherName = \"Muhammad Asif\"\n",
        "print (\"Father's Name\" , FatherName)\n",
        "FatherName = input()\n",
        "print (\"Father's Name\" , FatherName)\n",
        "MotherName = input()\n",
        "print (\"Mother's Name\" , MotherName)"
      ],
      "metadata": {
        "colab": {
          "base_uri": "https://localhost:8080/"
        },
        "id": "UGOz8kJfdwtF",
        "outputId": "4780cf17-3e62-4119-fdd1-f9a9b469e699"
      },
      "execution_count": 15,
      "outputs": [
        {
          "output_type": "stream",
          "name": "stdout",
          "text": [
            "Father's Name Muhammad Asif\n",
            "Muhammad Asif \n",
            "Father's Name Muhammad Asif \n",
            "Ayesha Asif\n",
            "Mother's Name Ayesha Asif\n"
          ]
        }
      ]
    }
  ]
}