{
  "nbformat": 4,
  "nbformat_minor": 0,
  "metadata": {
    "colab": {
      "provenance": [],
      "authorship_tag": "ABX9TyNOoO3Hw+EDpDoQV/pv6As1",
      "include_colab_link": true
    },
    "kernelspec": {
      "name": "python3",
      "display_name": "Python 3"
    },
    "language_info": {
      "name": "python"
    }
  },
  "cells": [
    {
      "cell_type": "markdown",
      "metadata": {
        "id": "view-in-github",
        "colab_type": "text"
      },
      "source": [
        "<a href=\"https://colab.research.google.com/github/MuhammadZaeem500/Python-Course/blob/main/Practice-Questions.ipynb\" target=\"_parent\"><img src=\"https://colab.research.google.com/assets/colab-badge.svg\" alt=\"Open In Colab\"/></a>"
      ]
    },
    {
      "cell_type": "code",
      "execution_count": null,
      "metadata": {
        "id": "-TeCdnoUwmZB"
      },
      "outputs": [],
      "source": [
        "num = int(input(\"Enter a number: \"))\n",
        "if num % 2 == 0:\n",
        "    print(f\"{num} is even\")\n",
        "else:\n",
        "    print(f\"{num} is odd\")"
      ]
    },
    {
      "cell_type": "code",
      "source": [
        "num = int(input(\"Enter a number: \"))\n",
        "if num % 5 == 0:\n",
        "    print(f\"{num} is divisible by 5\")\n",
        "else:\n",
        "    print(f\"{num} is not divisible by 5\")"
      ],
      "metadata": {
        "id": "L_vUyPymxevH"
      },
      "execution_count": null,
      "outputs": []
    },
    {
      "cell_type": "code",
      "source": [
        "password = \"admin123\"\n",
        "if password == \"admin123\":\n",
        "    print(\"Access Granted\")\n",
        "else:\n",
        "    print(\"Access Denied\")"
      ],
      "metadata": {
        "id": "oN-PfoSIxa0R"
      },
      "execution_count": null,
      "outputs": []
    },
    {
      "cell_type": "code",
      "source": [
        "age = int(input(\"Enter your age: \"))\n",
        "if age >= 18:\n",
        "    print(f\"{age} is eligible\")\n",
        "else:\n",
        "    print(f\"{age} is not eligible\")"
      ],
      "metadata": {
        "id": "hY3XQo_Cw_pT"
      },
      "execution_count": null,
      "outputs": []
    },
    {
      "cell_type": "code",
      "source": [
        "num = int(input(\"Enter a number: \"))\n",
        "if num > 0:\n",
        "    print(f\"{num} is positive\")\n",
        "else:\n",
        "    print(f\"{num} is negative\")"
      ],
      "metadata": {
        "id": "Vrc315HGw9P6"
      },
      "execution_count": null,
      "outputs": []
    },
    {
      "cell_type": "code",
      "source": [
        "marks = int(input(\"Enter your marks: \"))\n",
        "if marks >= 90:\n",
        "    print(\"Grade A\")\n",
        "elif marks >= 75:\n",
        "    print(\"Grade B\")\n",
        "elif marks >= 50:\n",
        "    print(\"Grade C\")\n",
        "else:\n",
        "    print(\"Fail\")\n"
      ],
      "metadata": {
        "id": "5mlmTUNvwn1v"
      },
      "execution_count": null,
      "outputs": []
    },
    {
      "cell_type": "code",
      "source": [
        "light = input(\"Enter the light color: \")\n",
        "if light == \"Red\":\n",
        "    print(\"Stop\")\n",
        "elif light == \"Yellow\":\n",
        "    print(\"Slow Down\")\n",
        "elif light == \"Green\":\n",
        "    print(\"Go\")\n",
        "else:\n",
        "    print(\"Invalid Color\")"
      ],
      "metadata": {
        "id": "WKcieVUex1IL"
      },
      "execution_count": null,
      "outputs": []
    },
    {
      "cell_type": "code",
      "source": [
        "temp = float(input(\"Enter the temperature: \"))\n",
        "if temp > 30:\n",
        "    print(\"Hot\")\n",
        "elif temp >= 15:\n",
        "    print(\"Warm\")\n",
        "elif temp >= 0:\n",
        "    print(\"Cold\")\n",
        "else:\n",
        "    print(\"Freezing\")"
      ],
      "metadata": {
        "id": "C5cQKLBKxwwS"
      },
      "execution_count": null,
      "outputs": []
    },
    {
      "cell_type": "code",
      "source": [
        "day = int(input(\"Enter a day: \"))\n",
        "if day == 1:\n",
        "    print(\"Monday\")\n",
        "elif day == 2:\n",
        "    print(\"Tuesday\")\n",
        "elif day == 3:\n",
        "    print(\"Wednesday\")\n",
        "elif day == 4:\n",
        "    print(\"Thursday\")\n",
        "elif day == 5:\n",
        "    print(\"Friday\")\n",
        "elif day == 6:\n",
        "    print(\"Saturday\")\n",
        "elif day == 7:\n",
        "    print(\"Sunday\")\n",
        "else:\n",
        "    print(\"Invalid\")\n"
      ],
      "metadata": {
        "id": "lm7be2qCxoAa"
      },
      "execution_count": null,
      "outputs": []
    },
    {
      "cell_type": "code",
      "source": [
        "a, b, c =  int(input(\"Enter three numbers: \").split())\n",
        "a, b, c = int(a), int(b), int(c)\n",
        "if a >= b and a >= c:\n",
        "    print(f\"Largest is {a}\")\n",
        "elif b >= a and b >= c:\n",
        "    print(f\"Largest is {b}\")\n",
        "else:\n",
        "    print(f\"Largest is {c}\")"
      ],
      "metadata": {
        "id": "ZGOol1uyxtkI"
      },
      "execution_count": null,
      "outputs": []
    },
    {
      "cell_type": "code",
      "source": [
        "age = int(input(\"Enter your age: \"))\n",
        "print(f\"{age} is eligible\" if age >= 18 else f\"{age} is not eligible\")\n"
      ],
      "metadata": {
        "colab": {
          "base_uri": "https://localhost:8080/"
        },
        "id": "CTGU0srOwqoH",
        "outputId": "3dd92890-6bb2-4dde-b652-f4cd01a1c365"
      },
      "execution_count": 24,
      "outputs": [
        {
          "output_type": "stream",
          "name": "stdout",
          "text": [
            "Enter your age: 90\n",
            "90 is eligible\n"
          ]
        }
      ]
    },
    {
      "cell_type": "code",
      "source": [
        "num = int(input(\"Enter a number: \"))\n",
        "print(f\"{num} is Positive\" if num > 0 else f\"{num} is Negative\")"
      ],
      "metadata": {
        "id": "RYm-x_qRyEZf"
      },
      "execution_count": null,
      "outputs": []
    },
    {
      "cell_type": "code",
      "source": [
        "password = \"admin123\"\n",
        "print(\"Access Granted\" if password == \"admin123\" else \"Access Denied\")"
      ],
      "metadata": {
        "id": "ahfRqFkQyCRE"
      },
      "execution_count": null,
      "outputs": []
    },
    {
      "cell_type": "code",
      "source": [
        "num = int(input(\"Enter a number:\"))\n",
        "print(\"Divisible by 5\" if num % 5 == 0 else \"Not Divisible by 5\")"
      ],
      "metadata": {
        "id": "3HQvPvtnyAsP"
      },
      "execution_count": null,
      "outputs": []
    },
    {
      "cell_type": "code",
      "source": [
        "num = int(input(\"Enter a number:\"))\n",
        "print(\"Even\" if num % 2 == 0 else \"Odd\")"
      ],
      "metadata": {
        "colab": {
          "base_uri": "https://localhost:8080/"
        },
        "id": "I_lnkBIAx_Eo",
        "outputId": "f12a1895-3067-44df-9df3-ae2eba8050cf"
      },
      "execution_count": 22,
      "outputs": [
        {
          "output_type": "stream",
          "name": "stdout",
          "text": [
            "Enter a number:90\n",
            "Even\n"
          ]
        }
      ]
    },
    {
      "cell_type": "code",
      "source": [
        "day = int(input(\"Enter a day:\"))\n",
        "match day:\n",
        "    case 1: print(\"Monday\")\n",
        "    case 2: print(\"Tuesday\")\n",
        "    case 3: print(\"Wednesday\")\n",
        "    case 4: print(\"Thursday\")\n",
        "    case 5: print(\"Friday\")\n",
        "    case 6: print(\"Saturday\")\n",
        "    case 7: print(\"Sunday\")\n",
        "    case _: print(\"Invalid\")\n",
        "\n"
      ],
      "metadata": {
        "id": "gC2dh78Zwsjt"
      },
      "execution_count": null,
      "outputs": []
    },
    {
      "cell_type": "code",
      "source": [
        "temp = int(input(\"Enter the Num: \"))\n",
        "\n",
        "match temp:\n",
        "    case t if t > 30:\n",
        "        print(\"Hot\")\n",
        "    case t if t >= 15:\n",
        "        print(\"Warm\")\n",
        "    case t if t >= 0:\n",
        "        print(\"Cold\")\n",
        "    case _:\n",
        "        print(\"Freezing\")\n"
      ],
      "metadata": {
        "colab": {
          "base_uri": "https://localhost:8080/"
        },
        "id": "05iPa0VWyNuI",
        "outputId": "dbaee189-5e30-4c6d-e910-487c611a2a74"
      },
      "execution_count": 17,
      "outputs": [
        {
          "output_type": "stream",
          "name": "stdout",
          "text": [
            "Enter the Num: 90\n",
            "Hot\n"
          ]
        }
      ]
    },
    {
      "cell_type": "code",
      "source": [
        "x, y, z = input(\"Enter three numbers: \").split()\n",
        "x, y, z = int(x), int(y), int(z)\n",
        "match (x, y, z):\n",
        "    case (x, y, z) if x >= y and x >= z:\n",
        "        print(f\"Largest is {x}\")\n",
        "    case (x, y, z) if y >= x and y >= z:\n",
        "        print(f\"Largest is {y}\")\n",
        "    case (x, y, z):\n",
        "        print(f\"Largest is {z}\")"
      ],
      "metadata": {
        "colab": {
          "base_uri": "https://localhost:8080/"
        },
        "id": "6jdXwrBVyL_w",
        "outputId": "d62324c4-c5f4-483c-9c8c-f6c8d896a36b"
      },
      "execution_count": 13,
      "outputs": [
        {
          "output_type": "stream",
          "name": "stdout",
          "text": [
            "Enter three numbers: 12 12 14\n",
            "Largest is 14\n"
          ]
        }
      ]
    },
    {
      "cell_type": "code",
      "source": [
        "light = input(\"Enter the light color: \")\n",
        "match light:\n",
        "    case \"Red\": print(\"Stop\")\n",
        "    case \"Yellow\": print(\"Slow Down\")\n",
        "    case \"Green\": print(\"Go\")\n",
        "    case _: print(\"Invalid Color\")"
      ],
      "metadata": {
        "colab": {
          "base_uri": "https://localhost:8080/"
        },
        "id": "iJUKcPjRyKih",
        "outputId": "c0598654-d0d0-42f5-b861-99577c29c8c9"
      },
      "execution_count": 4,
      "outputs": [
        {
          "output_type": "stream",
          "name": "stdout",
          "text": [
            "Enter the light color: Yellow\n",
            "Slow Down\n"
          ]
        }
      ]
    },
    {
      "cell_type": "code",
      "source": [
        "marks = int(input(\"Enter the marks:\"))\n",
        "match marks:\n",
        "    case m if m >= 90:\n",
        "        print(\"Grade A\")\n",
        "    case m if m >= 75:\n",
        "        print(\"Grade B\")\n",
        "    case m if m >= 50:\n",
        "        print(\"Grade C\")\n",
        "    case _:\n",
        "        print(\"Fail\")"
      ],
      "metadata": {
        "colab": {
          "base_uri": "https://localhost:8080/"
        },
        "id": "Axz1LQGEyIR4",
        "outputId": "49a34f50-7921-4723-c118-6663f59c708a"
      },
      "execution_count": 7,
      "outputs": [
        {
          "output_type": "stream",
          "name": "stdout",
          "text": [
            "Enter the marks:-6\n",
            "Fail\n"
          ]
        }
      ]
    }
  ]
}