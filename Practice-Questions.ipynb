{
  "nbformat": 4,
  "nbformat_minor": 0,
  "metadata": {
    "colab": {
      "provenance": [],
      "authorship_tag": "ABX9TyPnuCyUD25kcZP4ZTe/1laV",
      "include_colab_link": true
    },
    "kernelspec": {
      "name": "python3",
      "display_name": "Python 3"
    },
    "language_info": {
      "name": "python"
    }
  },
  "cells": [
    {
      "cell_type": "markdown",
      "metadata": {
        "id": "view-in-github",
        "colab_type": "text"
      },
      "source": [
        "<a href=\"https://colab.research.google.com/github/MuhammadZaeem500/Python-Course/blob/main/Practice-Questions.ipynb\" target=\"_parent\"><img src=\"https://colab.research.google.com/assets/colab-badge.svg\" alt=\"Open In Colab\"/></a>"
      ]
    },
    {
      "cell_type": "code",
      "execution_count": 1,
      "metadata": {
        "colab": {
          "base_uri": "https://localhost:8080/"
        },
        "id": "Zqb99Cs_Y8pS",
        "outputId": "4fe644e9-f4a9-4d4e-8fa3-888dc7b35ca5"
      },
      "outputs": [
        {
          "output_type": "stream",
          "name": "stdout",
          "text": [
            "Hello Zaeem, you are 21 years old!\n"
          ]
        }
      ],
      "source": [
        "print(\"Hello Zaeem, you are 21 years old!\")"
      ]
    },
    {
      "cell_type": "code",
      "source": [
        "Num1 = int(input(\"Enter the First Number: \"))\n",
        "Num2 = int(input(\"Enter the Second Number: \"))\n",
        "print( \"The sum is:\",Num1 + Num2)\n",
        "print( \"The difference is:\",Num1 - Num2)\n",
        "print( \"The product is:\",Num1 * Num2)\n",
        "print( \"The division is:\",Num1 / Num2)"
      ],
      "metadata": {
        "colab": {
          "base_uri": "https://localhost:8080/"
        },
        "id": "z4fq-V6QZPr3",
        "outputId": "58ac150b-aad6-402e-e052-0111c344975f"
      },
      "execution_count": 9,
      "outputs": [
        {
          "output_type": "stream",
          "name": "stdout",
          "text": [
            "Enter the First Number: 6\n",
            "Enter the Second Number: 3\n",
            "The sum is: 9\n",
            "The difference is: 3\n",
            "The product is: 18\n",
            "The division is: 2.0\n"
          ]
        }
      ]
    },
    {
      "cell_type": "code",
      "source": [
        "Num1 = int(input(\"Enter the Number: \"))\n",
        "print( \"The square is:\",Num1 * Num1)\n",
        "print( \"The cube is:\",Num1 * Num1 * Num1)"
      ],
      "metadata": {
        "colab": {
          "base_uri": "https://localhost:8080/"
        },
        "id": "THaqoFneaVXn",
        "outputId": "9306bfdd-01c0-4847-80ef-e07f97506b77"
      },
      "execution_count": 12,
      "outputs": [
        {
          "output_type": "stream",
          "name": "stdout",
          "text": [
            "Enter the Number: 10\n",
            "The square is: 100\n",
            "The cube is: 1000\n"
          ]
        }
      ]
    },
    {
      "cell_type": "code",
      "source": [
        "Temperature = input(\"Enter the temperature in Farenheit: \")\n",
        "Celsius = (int(Temperature) - 32) * 5/9\n",
        "print(\"The temperature in Celsius is:\",Celsius)"
      ],
      "metadata": {
        "colab": {
          "base_uri": "https://localhost:8080/"
        },
        "id": "R1LJgK1eaj-C",
        "outputId": "9886f70e-efe6-4d79-8313-76341dc256a3"
      },
      "execution_count": 15,
      "outputs": [
        {
          "output_type": "stream",
          "name": "stdout",
          "text": [
            "Enter the Temperature in Farenheit: 65\n",
            "The Temperature in Celsius is: 18.333333333333332\n"
          ]
        }
      ]
    },
    {
      "cell_type": "code",
      "source": [
        "Height = float(input(\"Enter the height: \"))\n",
        "Weight = float(input(\"Enter the weight: \"))\n",
        "BMI = Weight / (Height * Height)\n",
        "print(\"The BMI is:\",BMI)"
      ],
      "metadata": {
        "colab": {
          "base_uri": "https://localhost:8080/"
        },
        "id": "3Flqd7A5bMh3",
        "outputId": "a69532b6-6388-48cc-ef2b-beaea1129563"
      },
      "execution_count": 16,
      "outputs": [
        {
          "output_type": "stream",
          "name": "stdout",
          "text": [
            "Enter the height: 6\n",
            "Enter the weight: 6\n",
            "The BMI is: 0.16666666666666666\n"
          ]
        }
      ]
    },
    {
      "cell_type": "code",
      "source": [
        "FirstName = input( \" Enter your first name: \")\n",
        "LastName = input( \" Enter your last name: \")\n",
        "print( \"The full name is\",FirstName,LastName)"
      ],
      "metadata": {
        "colab": {
          "base_uri": "https://localhost:8080/"
        },
        "id": "q1V3kC28biEA",
        "outputId": "b3b7af65-8672-47bd-9d6c-0b90b70b277c"
      },
      "execution_count": 18,
      "outputs": [
        {
          "output_type": "stream",
          "name": "stdout",
          "text": [
            " Enter your first name: Zaeem\n",
            " Enter your last name: Sheikh\n",
            "The full name is Zaeem Sheikh\n"
          ]
        }
      ]
    },
    {
      "cell_type": "code",
      "source": [
        "Num = input(\"Enter the number: \")\n",
        "if int(Num) % 2 == 0:\n",
        "    print(\"The number is even\")\n",
        "else:\n",
        "    print(\"The number is odd\")"
      ],
      "metadata": {
        "colab": {
          "base_uri": "https://localhost:8080/"
        },
        "id": "NGEUczxfb8nX",
        "outputId": "2b6de8c5-1f40-459d-a63d-dd3df0deb39d"
      },
      "execution_count": 20,
      "outputs": [
        {
          "output_type": "stream",
          "name": "stdout",
          "text": [
            "Enter the number: 11\n",
            "The number is odd\n"
          ]
        }
      ]
    },
    {
      "cell_type": "code",
      "source": [
        "String1 = input(\"Enter the first string: \")\n",
        "String2 = input(\"Enter the second string: \")\n",
        "print(\"the concatenated string is \",String1,String2)"
      ],
      "metadata": {
        "colab": {
          "base_uri": "https://localhost:8080/"
        },
        "id": "M_giCnvqcOnu",
        "outputId": "eb63e329-4738-440b-81d0-7aa2a69d3167"
      },
      "execution_count": 23,
      "outputs": [
        {
          "output_type": "stream",
          "name": "stdout",
          "text": [
            "Enter the first string: My name is Zaeem\n",
            "Enter the second string: Sheikh\n",
            "the concatenated string is  My name is Zaeem Sheikh\n"
          ]
        }
      ]
    },
    {
      "cell_type": "code",
      "source": [
        "String = input(\"Enter the string: \")\n",
        "print(\"The length of the string is\",len(String))"
      ],
      "metadata": {
        "colab": {
          "base_uri": "https://localhost:8080/"
        },
        "id": "C4OfEbxhc6Xa",
        "outputId": "12a699f5-b000-47ff-de3a-1f550cb61d05"
      },
      "execution_count": 24,
      "outputs": [
        {
          "output_type": "stream",
          "name": "stdout",
          "text": [
            "Enter the string: My name is Zaeem\n",
            "The length of the string is 16\n"
          ]
        }
      ]
    },
    {
      "cell_type": "code",
      "source": [
        "Num = int(input(\"Enter the number: \"))\n",
        "print(\"The last digit of the number is\", Num % 10)"
      ],
      "metadata": {
        "colab": {
          "base_uri": "https://localhost:8080/"
        },
        "id": "3ziozQWidIkL",
        "outputId": "c9bd9180-5301-4fde-cf03-ce8570fd7163"
      },
      "execution_count": 37,
      "outputs": [
        {
          "output_type": "stream",
          "name": "stdout",
          "text": [
            "Enter the number: 9\n",
            "The last digit of the number is 9\n"
          ]
        }
      ]
    }
  ]
}